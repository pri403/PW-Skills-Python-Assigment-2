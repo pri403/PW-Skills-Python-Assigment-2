{
  "nbformat": 4,
  "nbformat_minor": 0,
  "metadata": {
    "colab": {
      "provenance": []
    },
    "kernelspec": {
      "name": "python3",
      "display_name": "Python 3"
    },
    "language_info": {
      "name": "python"
    }
  },
  "cells": [
    {
      "cell_type": "code",
      "execution_count": null,
      "metadata": {
        "id": "odYaSqckKaxb"
      },
      "outputs": [],
      "source": []
    },
    {
      "cell_type": "markdown",
      "source": [
        "Q1. Data structures are ways of organizing and storing data in a computer so that they can be used efficiently.\n",
        "Think of them as containers that hold data in a specific format to make operations like searching, inserting, updating, and deleting easier.\n",
        "\n",
        "Q2. Mutable → Can be changed/modified after creation.\n",
        "\n",
        "Immutable → Cannot be changed after creation. A new object is created instead.\n",
        "Mutable- numbers = [1, 2, 3]\n",
        "numbers[0] = 100     # modifying first element\n",
        "print(numbers)       # [100, 2, 3]\n",
        "\n",
        "Immutable- colors = (\"red\", \"blue\", \"green\")\n",
        "# colors[0] = \"yellow\"  # Error\n",
        "\n",
        "Q3. Lists are mutable: You can add, remove, or change elements after a list has been created.\n",
        "\n",
        "my_list = [1, 'hello', 3.14]\n",
        "print(my_list) # Output: [1, 'hello', 3.14]\n",
        "# Let's change an element\n",
        "my_list[1] = 'world'\n",
        "my_list.append(True)\n",
        "print(my_list) # Output: [1, 'world', 3.14, True]\n",
        "\n",
        "Tuples are immutable: You cannot change a tuple in any way after it's created. Trying to do so will result in a TypeError.\n",
        "\n",
        "my_tuple = (1, 'hello', 3.14)\n",
        "print(my_tuple) # Output: (1, 'hello', 3.14)\n",
        "# Let's try to change an element\n",
        "my_tuple[1] = 'world' # This will raise a TypeError!\n",
        "\n",
        "Q4. Dictionaries store data as key-value pairs, where each unique key is mapped to a specific value. Think of it like a real-world dictionary where the \"key\" is the word you look up, and the \"value\" is its definition.\n",
        "\n",
        "The fundamental unit of a dictionary is the pair.\n",
        "Key: A unique identifier for a value. Keys must be immutable data types, such as strings, numbers, or tuples. This is because Python needs to be able to rely on the key never changing. You cannot use a list or another dictionary as a key.\n",
        "Value: The data associated with a key. Values can be of any data type (strings, lists, numbers, even other dictionaries) and they do not need to be unique.\n",
        "\n",
        "Q5. you use a set instead of a list for three theoretical reasons:\n",
        "\n",
        "To enforce uniqueness: Sets, by definition, cannot contain duplicate elements.\n",
        "\n",
        "For fast membership testing: Finding an item in a set is almost instantaneous, whereas a list must be searched item by item.\n",
        "\n",
        "For mathematical operations: Sets are designed for comparing collections to find intersections, unions, or differences efficiently.\n",
        "\n",
        "Q6. A string is a sequence of characters enclosed in single (' '), double (\" \"), or triple quotes (''' ''' / \"\"\" \"\"\").\n",
        "Strings are used to store textual data.\n",
        "Each character in a string has an index (like a list).\n",
        "A string in Python is an immutable sequence of characters used to represent text, while a list is a mutable sequence that can hold elements of different data types (numbers, strings, objects, etc.). Strings cannot be modified directly—any change creates a new string—whereas lists allow adding, removing, or updating elements in place. In short, strings are best for working with text, while lists are used for storing and managing collections of items.\n",
        "\n",
        "Q7. Tuples ensure data integrity in Python because they are immutable—once created, their elements cannot be changed, added, or removed. This immutability means the data stays fixed throughout the program, preventing accidental modifications.\n",
        "\n",
        "Tuples are often used for:\n",
        "Constant values (e.g., days of the week, configuration settings).\n",
        "Keys in dictionaries (since they are hashable).\n",
        "Returning multiple values from functions safely.\n",
        "\n",
        "Q8. A hash table is a data structure that stores data in key–value pairs for very fast access.\n",
        "It uses a hash function to convert a key (like \"name\") into a numerical index.\n",
        "That index tells where the value should be stored in memory.\n",
        "This makes lookups, insertions, and deletions very efficient (average case: O(1)).\n",
        "\n",
        "In Python, the built-in dict (dictionary) is implemented internally using a hash table.\n",
        "Keys → get hashed into indices.\n",
        "Values → stored at those indices.\n",
        "That’s why dictionary operations (get, set, in) are very fast compared to searching in a list.\n",
        "\n",
        "Example:\n",
        "# Dictionary in Python (uses a hash table internally)\n",
        "student = {\"name\": \"Priya\", \"age\": 21, \"grade\": \"A\"}\n",
        "\n",
        "print(student[\"name\"])  # O(1) lookup → \"Priya\"\n",
        "student[\"age\"] = 22     # O(1) update\n",
        "\n",
        "Q9. In Python, lists can contain elements of different data types because Python is a dynamically typed language. That means each element in a list can be an integer, string, float, boolean, another list, or even an object.\n",
        "\n",
        "Q10. Memory Efficiency (String Interning)\n",
        "-Python often reuses string objects (especially small strings) to save memory.\n",
        "-If strings were mutable, changing one would also change all references pointing to it, causing unexpected bugs.\n",
        "\n",
        "Data Integrity & Security\n",
        "-Strings are used as keys in dictionaries and in many internal operations.\n",
        "-If they were mutable, keys could change after insertion, breaking the hash table structure.\n",
        "\n",
        "Q11. Clearer Representation of Data\n",
        "-Dictionary → Data stored as key–value pairs, making it more meaningful.\n",
        "-List → Just values in order, no explicit labels.\n",
        "\n",
        "No Need to Remember Index Positions\n",
        "-With lists, you must remember which index corresponds to which data.\n",
        "-With dictionaries, you just use the key (self-explanatory).\n",
        "\n",
        "Q12. Scenario: Storing Fixed, Unchangeable Data\n",
        "Imagine you are building a mapping application and need to store GPS coordinates (latitude and longitude) for a location. These values should never change once assigned, because they represent a fixed point on the map.\n",
        "Using a tuple ensures data integrity because the coordinates cannot be accidentally modified.\n",
        "\n",
        "Q13. In Python, sets automatically eliminate duplicate values.\n",
        "-A set is an unordered collection of unique elements.\n",
        "-If you try to add duplicates, Python ignores them and keeps only one copy.\n",
        "Python sets automatically handle duplicates by keeping only one instance of each value, making them ideal for storing unique items.\n",
        "\n",
        "Q14. 1. “in” with Lists\n",
        "-When you use in with a list, Python checks each element one by one until it finds a match.\n",
        "-This is a linear search, so the time complexity is.\n",
        "\n",
        "my_list = [10, 20, 30, 40]\n",
        "print(20 in my_list)   # True\n",
        "print(50 in my_list)   # False\n",
        "\n",
        "-Python goes through the list from start to end to see if the element exists.\n",
        "\n",
        "Q15. No, you cannot modify the elements of a tuple in Python.\n",
        "-Tuples are immutable, which means once a tuple is created, its contents cannot be changed, added, or removed.\n",
        "-This immutability ensures data integrity, reliability, and allows tuples to be used as dictionary keys (which require hashable objects).\n",
        "\n",
        "Q16. A nested dictionary in Python is a dictionary where one or more values are themselves dictionaries. This allows you to represent complex, hierarchical data in a structured way.\n",
        "Example of a Nested Dictionary\n",
        "students = {\n",
        "    \"101\": {\"name\": \"Priya\", \"age\": 21, \"grades\": {\"Math\": 90, \"English\": 85}},\n",
        "    \"102\": {\"name\": \"Rahul\", \"age\": 22, \"grades\": {\"Math\": 80, \"English\": 88}}\n",
        "}\n",
        "\n",
        "print(students[\"101\"][\"grades\"][\"Math\"])  # 90\n",
        "Here, each student ID maps to another dictionary containing details.\n",
        "Inside that dictionary, \"grades\" maps to yet another dictionary of subjects and marks.\n",
        "\n",
        "Q18. 1. When Order Matters\n",
        "-Lists preserve the order of elements.\n",
        "-Use lists when the sequence of data is important, like a playlist, to-do list, or steps in a process.\n",
        "\n",
        "2. Simple Collections of Items\n",
        "-When you just need to store multiple items without labels, lists are simpler and more memory-efficient than dictionaries.\n",
        "\n",
        "3. Iteration and Indexing\n",
        "-Lists allow easy iteration and access by index, which is convenient for loops or slicing.\n",
        "\n",
        "Q20. 1. List\n",
        "-Data is retrieved by index position.\n",
        "-Retrieval requires Python to scan to the specific index (though direct indexing is fast, searching by value is O(n)).\n",
        "-Slower for searching by value in large lists because it may need to check each element.\n",
        "\n",
        "2. Dictionary\n",
        "-Data is retrieved by key instead of position.\n",
        "-Uses a hash table, so key-based retrieval is very fast (average O(1)).\n",
        "-Cannot access values by position directly; you must use the key.\n",
        "\n",
        "PRACTICAL QUESTIONS\n"
      ],
      "metadata": {
        "id": "Z07ZGF53K_ha"
      }
    },
    {
      "cell_type": "code",
      "source": [
        "# Q1.\n",
        "name = \"Priyansh Ahuja\"\n",
        "print(name)"
      ],
      "metadata": {
        "colab": {
          "base_uri": "https://localhost:8080/"
        },
        "id": "fhcl_36idjTG",
        "outputId": "c61c2c53-9b57-4a39-c424-c8dbb65ae901"
      },
      "execution_count": null,
      "outputs": [
        {
          "output_type": "stream",
          "name": "stdout",
          "text": [
            "Priyansh Ahuja\n"
          ]
        }
      ]
    },
    {
      "cell_type": "code",
      "source": [
        "#Q2.\n",
        "a= \"Hello World\"\n",
        "print(len(a))"
      ],
      "metadata": {
        "colab": {
          "base_uri": "https://localhost:8080/"
        },
        "id": "D311gwVudyEU",
        "outputId": "018829f4-7a36-48ff-932b-695f9df2bf0f"
      },
      "execution_count": null,
      "outputs": [
        {
          "output_type": "stream",
          "name": "stdout",
          "text": [
            "11\n"
          ]
        }
      ]
    },
    {
      "cell_type": "code",
      "source": [
        "#Q3.\n",
        "text = \"Python Programming\"\n",
        "first_three = text[:3]\n",
        "print(first_three)"
      ],
      "metadata": {
        "colab": {
          "base_uri": "https://localhost:8080/"
        },
        "id": "Gkr1GmDzeQKM",
        "outputId": "12496820-e7fd-4652-b2f6-4aab653d1a69"
      },
      "execution_count": null,
      "outputs": [
        {
          "output_type": "stream",
          "name": "stdout",
          "text": [
            "Pyt\n"
          ]
        }
      ]
    },
    {
      "cell_type": "code",
      "source": [
        "#Q4.\n",
        "text = \"hello\"\n",
        "uppercase = text.upper()\n",
        "print(uppercase)"
      ],
      "metadata": {
        "colab": {
          "base_uri": "https://localhost:8080/"
        },
        "id": "h17n7vftevCR",
        "outputId": "f8fc0ee6-28ec-4035-e88d-38b9651597aa"
      },
      "execution_count": null,
      "outputs": [
        {
          "output_type": "stream",
          "name": "stdout",
          "text": [
            "HELLO\n"
          ]
        }
      ]
    },
    {
      "cell_type": "code",
      "source": [
        "#Q5.\n",
        "text = \"I like Apple\"\n",
        "new_text = text.replace(\"Apple\", \"Orange\")\n",
        "print(new_text)"
      ],
      "metadata": {
        "colab": {
          "base_uri": "https://localhost:8080/"
        },
        "id": "YBbutH7Sfdcp",
        "outputId": "64c01235-de0c-429d-d90b-2f9518e37f3a"
      },
      "execution_count": null,
      "outputs": [
        {
          "output_type": "stream",
          "name": "stdout",
          "text": [
            "I like Orange\n"
          ]
        }
      ]
    },
    {
      "cell_type": "code",
      "source": [
        "#Q6.\n",
        "numbers = [1,2,3,4,5]\n",
        "print(numbers)"
      ],
      "metadata": {
        "colab": {
          "base_uri": "https://localhost:8080/"
        },
        "id": "Vrt_oTQygAjF",
        "outputId": "d7d36453-6a25-4037-841b-b7e82afacf12"
      },
      "execution_count": null,
      "outputs": [
        {
          "output_type": "stream",
          "name": "stdout",
          "text": [
            "[1, 2, 3, 4, 5]\n"
          ]
        }
      ]
    },
    {
      "cell_type": "code",
      "source": [
        "#Q7.\n",
        "number_list = [1,2,3,4]\n",
        "number_list.append(10)\n",
        "print(number_list)"
      ],
      "metadata": {
        "colab": {
          "base_uri": "https://localhost:8080/"
        },
        "id": "QmhOZ3ctgPnX",
        "outputId": "095acddb-7610-4220-b0c5-e802968a632c"
      },
      "execution_count": null,
      "outputs": [
        {
          "output_type": "stream",
          "name": "stdout",
          "text": [
            "[1, 2, 3, 4, 10]\n"
          ]
        }
      ]
    },
    {
      "cell_type": "code",
      "source": [
        "#Q8.\n",
        "num_list = [1, 2, 3, 4, 5]\n",
        "num_list.remove(3)\n",
        "print(num_list)"
      ],
      "metadata": {
        "colab": {
          "base_uri": "https://localhost:8080/"
        },
        "id": "neoNREaEgk0V",
        "outputId": "115fb8e9-0ac4-436c-caf0-a09901cbcb10"
      },
      "execution_count": null,
      "outputs": [
        {
          "output_type": "stream",
          "name": "stdout",
          "text": [
            "[1, 2, 4, 5]\n"
          ]
        }
      ]
    },
    {
      "cell_type": "code",
      "source": [
        "#Q9.\n",
        "alphabets =  ['a', 'b', 'c', 'd']\n",
        "second_element= alphabets[1]\n",
        "print(second_element)"
      ],
      "metadata": {
        "colab": {
          "base_uri": "https://localhost:8080/"
        },
        "id": "ZTUNxpEZhMi-",
        "outputId": "730fca5a-a324-4cec-b0b8-46849f48b73a"
      },
      "execution_count": null,
      "outputs": [
        {
          "output_type": "stream",
          "name": "stdout",
          "text": [
            "b\n"
          ]
        }
      ]
    },
    {
      "cell_type": "code",
      "source": [
        "#Q10.\n",
        "numbers = [10,20,30,40,50]\n",
        "reversed = numbers[::-1]\n",
        "print(reversed)"
      ],
      "metadata": {
        "colab": {
          "base_uri": "https://localhost:8080/"
        },
        "id": "r0vf03Xxhf7o",
        "outputId": "11ca84ec-d070-4b47-bd92-ff7b3b873fb0"
      },
      "execution_count": null,
      "outputs": [
        {
          "output_type": "stream",
          "name": "stdout",
          "text": [
            "[50, 40, 30, 20, 10]\n"
          ]
        }
      ]
    },
    {
      "cell_type": "code",
      "source": [
        "#Q11.\n",
        "numbers_tuple = (100,200,300)\n",
        "print(numbers_tuple)"
      ],
      "metadata": {
        "colab": {
          "base_uri": "https://localhost:8080/"
        },
        "id": "xk_UHF5wiPxM",
        "outputId": "0d93dabf-614f-4b3e-8f83-a49160e5fff6"
      },
      "execution_count": null,
      "outputs": [
        {
          "output_type": "stream",
          "name": "stdout",
          "text": [
            "(100, 200, 300)\n"
          ]
        }
      ]
    },
    {
      "cell_type": "code",
      "source": [
        "#Q12.\n",
        "colors = ('red', 'green', 'blue', 'yellow')\n",
        "second_last = colors[-2]\n",
        "print(second_last)"
      ],
      "metadata": {
        "colab": {
          "base_uri": "https://localhost:8080/"
        },
        "id": "J1Wkk-pSiyHu",
        "outputId": "cee5f90c-3a90-41e5-d1ee-be2363fd5ad1"
      },
      "execution_count": null,
      "outputs": [
        {
          "output_type": "stream",
          "name": "stdout",
          "text": [
            "blue\n"
          ]
        }
      ]
    },
    {
      "cell_type": "code",
      "source": [
        "#Q13.\n",
        "numbers = (10,20,5,15)\n",
        "min_Number = min(numbers)\n",
        "print(min_Number)"
      ],
      "metadata": {
        "colab": {
          "base_uri": "https://localhost:8080/"
        },
        "id": "PLxCykBEjUoD",
        "outputId": "46ecce97-d993-41aa-d827-c0015a9f71ae"
      },
      "execution_count": null,
      "outputs": [
        {
          "output_type": "stream",
          "name": "stdout",
          "text": [
            "5\n"
          ]
        }
      ]
    },
    {
      "cell_type": "code",
      "source": [
        "#Q14.\n",
        "animals = ('dog', 'cat', 'rabbit')\n",
        "cat_index = animals.index('cat')\n",
        "print(cat_index)\n"
      ],
      "metadata": {
        "id": "e7rezsGjkA0O",
        "colab": {
          "base_uri": "https://localhost:8080/"
        },
        "outputId": "ff38f299-b4bb-4368-b870-3c2ca387f579"
      },
      "execution_count": 1,
      "outputs": [
        {
          "output_type": "stream",
          "name": "stdout",
          "text": [
            "1\n"
          ]
        }
      ]
    },
    {
      "cell_type": "code",
      "source": [
        "#Q15.\n",
        "fruits = (\"Banana\", \"Mango\", \"Kiwi\")\n",
        "if \"Kiwi\" in fruits:\n",
        "  print(\"Kiwi is in the tuple\")\n",
        "else:\n",
        "  print(\"Kiwi is not in the tuple\")\n"
      ],
      "metadata": {
        "colab": {
          "base_uri": "https://localhost:8080/"
        },
        "id": "qQadyC0ITIk0",
        "outputId": "af917fb5-176f-41d6-f1da-da4317a5da16"
      },
      "execution_count": 2,
      "outputs": [
        {
          "output_type": "stream",
          "name": "stdout",
          "text": [
            "Kiwi is in the tuple\n"
          ]
        }
      ]
    },
    {
      "cell_type": "code",
      "source": [
        "#Q16.\n",
        "my_set = {'a', 'b', 'c'}\n",
        "print(my_set)"
      ],
      "metadata": {
        "colab": {
          "base_uri": "https://localhost:8080/"
        },
        "id": "_Kz5WtZTUVMK",
        "outputId": "840fba04-4c50-4bbe-dcdf-503fc677ec02"
      },
      "execution_count": 3,
      "outputs": [
        {
          "output_type": "stream",
          "name": "stdout",
          "text": [
            "{'a', 'b', 'c'}\n"
          ]
        }
      ]
    },
    {
      "cell_type": "code",
      "source": [
        "#Q17.\n",
        "numbers = {1,2,3,4,5}\n",
        "numbers.clear()\n",
        "print(numbers)"
      ],
      "metadata": {
        "colab": {
          "base_uri": "https://localhost:8080/"
        },
        "id": "z96-AKUoUnCN",
        "outputId": "59bdc8ca-9777-46e2-9dec-9bc22a208d3e"
      },
      "execution_count": 4,
      "outputs": [
        {
          "output_type": "stream",
          "name": "stdout",
          "text": [
            "set()\n"
          ]
        }
      ]
    },
    {
      "cell_type": "code",
      "source": [
        "#Q18.\n",
        "numbers = {1, 2, 3, 4}\n",
        "numbers.discard(4)\n",
        "print(numbers)\n"
      ],
      "metadata": {
        "colab": {
          "base_uri": "https://localhost:8080/"
        },
        "id": "2pAoVEgYU527",
        "outputId": "c00d9b07-b9ab-4aec-e027-54a50b9e6a82"
      },
      "execution_count": 6,
      "outputs": [
        {
          "output_type": "stream",
          "name": "stdout",
          "text": [
            "{1, 2, 3}\n"
          ]
        }
      ]
    },
    {
      "cell_type": "code",
      "source": [
        "#Q19.\n",
        "set1 = {1,2,3}\n",
        "set2 = {4,5,6}\n",
        "union_set = set1.union(set2)\n",
        "print(union_set)"
      ],
      "metadata": {
        "colab": {
          "base_uri": "https://localhost:8080/"
        },
        "id": "VcC1Sh-OVccW",
        "outputId": "a28855e1-f0ea-4dbb-f7f0-0602a836b3ed"
      },
      "execution_count": 7,
      "outputs": [
        {
          "output_type": "stream",
          "name": "stdout",
          "text": [
            "{1, 2, 3, 4, 5, 6}\n"
          ]
        }
      ]
    },
    {
      "cell_type": "code",
      "source": [
        "#Q20.\n",
        "set1 = {1,2,3}\n",
        "set2 = {2,3,4}\n",
        "intersection_set = set1.intersection(set2)\n",
        "print(intersection_set)"
      ],
      "metadata": {
        "colab": {
          "base_uri": "https://localhost:8080/"
        },
        "id": "TtugAI9TVond",
        "outputId": "378eed17-1f10-4ae3-dc74-48f6fd1f4f56"
      },
      "execution_count": 8,
      "outputs": [
        {
          "output_type": "stream",
          "name": "stdout",
          "text": [
            "{2, 3}\n"
          ]
        }
      ]
    },
    {
      "cell_type": "code",
      "source": [
        "#Q21.\n",
        "person = {\n",
        "    \"name\": \"Priyansh\",\n",
        "    \"age\": 22,\n",
        "    \"city\": \"Delhi\"}\n",
        "print(person)\n"
      ],
      "metadata": {
        "colab": {
          "base_uri": "https://localhost:8080/"
        },
        "id": "l0qpS1GIV8-M",
        "outputId": "50049848-f15d-4a9c-d2c9-c1c23368aec8"
      },
      "execution_count": 9,
      "outputs": [
        {
          "output_type": "stream",
          "name": "stdout",
          "text": [
            "{'name': 'Priyansh', 'age': 22, 'city': 'Delhi'}\n"
          ]
        }
      ]
    },
    {
      "cell_type": "code",
      "source": [
        "#Q22.\n",
        "person = {\"name\": \"John\", \"Age\":\"25\"}\n",
        "person[\"Country\"] = \"USA\"\n",
        "print(person)"
      ],
      "metadata": {
        "colab": {
          "base_uri": "https://localhost:8080/"
        },
        "id": "ZJ9rkut2WMOi",
        "outputId": "5ea2acee-e609-4138-9ff7-a3e7a6d6e130"
      },
      "execution_count": 10,
      "outputs": [
        {
          "output_type": "stream",
          "name": "stdout",
          "text": [
            "{'name': 'John', 'Age': '25', 'Country': 'USA'}\n"
          ]
        }
      ]
    },
    {
      "cell_type": "code",
      "source": [
        "#Q23.\n",
        "person = {'name': 'Alice', 'age': 30}\n",
        "name_value = person['name']\n",
        "print(name_value)\n"
      ],
      "metadata": {
        "colab": {
          "base_uri": "https://localhost:8080/"
        },
        "id": "VMNWYhzBWq21",
        "outputId": "562093e6-0429-4e6c-88f1-eaf059cc0f6c"
      },
      "execution_count": 11,
      "outputs": [
        {
          "output_type": "stream",
          "name": "stdout",
          "text": [
            "Alice\n"
          ]
        }
      ]
    },
    {
      "cell_type": "code",
      "source": [
        "#Q24.\n",
        "person = {'name': 'Bob', 'age': 22, 'city': 'New York'}\n",
        "person.pop('age')\n",
        "print(person)\n"
      ],
      "metadata": {
        "colab": {
          "base_uri": "https://localhost:8080/"
        },
        "id": "xyuZWfFuXBVn",
        "outputId": "ae598a91-b8f6-4558-ebe2-844469fbb06b"
      },
      "execution_count": 12,
      "outputs": [
        {
          "output_type": "stream",
          "name": "stdout",
          "text": [
            "{'name': 'Bob', 'city': 'New York'}\n"
          ]
        }
      ]
    },
    {
      "cell_type": "code",
      "source": [
        "#Q25.\n",
        "person = {'name': 'Alice', 'city': 'Paris'}\n",
        "if 'city' in person:\n",
        "    print(\"Key 'city' exists in the dictionary.\")\n",
        "else:\n",
        "    print(\"Key 'city' does not exist in the dictionary.\")\n"
      ],
      "metadata": {
        "colab": {
          "base_uri": "https://localhost:8080/"
        },
        "id": "jQM6pvVCX9qr",
        "outputId": "3097030b-59e9-4c2a-f1db-7da21a655457"
      },
      "execution_count": 13,
      "outputs": [
        {
          "output_type": "stream",
          "name": "stdout",
          "text": [
            "Key 'city' exists in the dictionary.\n"
          ]
        }
      ]
    },
    {
      "cell_type": "code",
      "source": [
        "#Q26.\n",
        "#Creating a list\n",
        "my_list = [1, 2, 3, 4, 5]\n",
        "\n",
        "# Creating a tuple\n",
        "my_tuple = (10, 20, 30, 40, 50)\n",
        "\n",
        "# Creating a dictionary\n",
        "my_dict = {'name': 'Alice', 'age': 25, 'city': 'Paris'}\n",
        "\n",
        "# Print all of them\n",
        "print(\"List:\", my_list)\n",
        "print(\"Tuple:\", my_tuple)\n",
        "print(\"Dictionary:\", my_dict)\n"
      ],
      "metadata": {
        "colab": {
          "base_uri": "https://localhost:8080/"
        },
        "id": "TVLomUmBYQTD",
        "outputId": "3932cf80-93ae-442e-98af-ba208c7b89da"
      },
      "execution_count": 14,
      "outputs": [
        {
          "output_type": "stream",
          "name": "stdout",
          "text": [
            "List: [1, 2, 3, 4, 5]\n",
            "Tuple: (10, 20, 30, 40, 50)\n",
            "Dictionary: {'name': 'Alice', 'age': 25, 'city': 'Paris'}\n"
          ]
        }
      ]
    },
    {
      "cell_type": "code",
      "source": [
        "#Q27.\n",
        "import random\n",
        "numbers = [random.randint(1, 100) for _ in range(5)]\n",
        "numbers.sort()\n",
        "print(\"Sorted list:\", numbers)\n"
      ],
      "metadata": {
        "colab": {
          "base_uri": "https://localhost:8080/"
        },
        "id": "WgmfSpPHYkTr",
        "outputId": "5842ce05-6245-4353-f9da-89bf475e3f54"
      },
      "execution_count": 15,
      "outputs": [
        {
          "output_type": "stream",
          "name": "stdout",
          "text": [
            "Sorted list: [9, 48, 58, 61, 90]\n"
          ]
        }
      ]
    },
    {
      "cell_type": "code",
      "source": [
        "#Q28.\n",
        "fruits = [\"apple\", \"banana\", \"cherry\", \"date\", \"elderberry\"]\n",
        "print(\"Element at index 3:\", fruits[3])\n"
      ],
      "metadata": {
        "colab": {
          "base_uri": "https://localhost:8080/"
        },
        "id": "UawWCsb2ZHTO",
        "outputId": "42f55de4-9b13-4f8e-a4bb-cdf4e748b645"
      },
      "execution_count": 16,
      "outputs": [
        {
          "output_type": "stream",
          "name": "stdout",
          "text": [
            "Element at index 3: date\n"
          ]
        }
      ]
    },
    {
      "cell_type": "code",
      "source": [
        "#Q29.\n",
        "# Two dictionaries\n",
        "dict1 = {'name': 'Alice', 'age': 25}\n",
        "dict2 = {'city': 'Paris', 'country': 'France'}\n",
        "\n",
        "combined_dict = dict1 | dict2\n",
        "\n",
        "# Print the combined dictionary\n",
        "print(\"Combined Dictionary:\", combined_dict)\n"
      ],
      "metadata": {
        "colab": {
          "base_uri": "https://localhost:8080/"
        },
        "id": "HRlOmlVFZZG7",
        "outputId": "0fccbac6-8dff-4c23-cb13-6815c3a30858"
      },
      "execution_count": 17,
      "outputs": [
        {
          "output_type": "stream",
          "name": "stdout",
          "text": [
            "Combined Dictionary: {'name': 'Alice', 'age': 25, 'city': 'Paris', 'country': 'France'}\n"
          ]
        }
      ]
    },
    {
      "cell_type": "code",
      "source": [
        "#Q30.\n",
        "# List of strings\n",
        "fruits = [\"apple\", \"banana\", \"cherry\", \"apple\", \"banana\"]\n",
        "\n",
        "# Convert list to set\n",
        "fruits_set = set(fruits)\n",
        "\n",
        "# Print the set\n",
        "print(\"Set of fruits:\", fruits_set)\n"
      ],
      "metadata": {
        "colab": {
          "base_uri": "https://localhost:8080/"
        },
        "id": "pHQBiFsEZ4Wm",
        "outputId": "76bd65a2-a9ef-46c3-f89d-de03f776ee69"
      },
      "execution_count": 18,
      "outputs": [
        {
          "output_type": "stream",
          "name": "stdout",
          "text": [
            "Set of fruits: {'banana', 'cherry', 'apple'}\n"
          ]
        }
      ]
    }
  ]
}